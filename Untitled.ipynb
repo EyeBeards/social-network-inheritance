{
 "cells": [
  {
   "cell_type": "code",
   "execution_count": 929,
   "metadata": {},
   "outputs": [],
   "source": [
    "from datetime import datetime\n",
    "import factory"
   ]
  },
  {
   "cell_type": "code",
   "execution_count": 930,
   "metadata": {},
   "outputs": [],
   "source": [
    "class User(object):\n",
    "    def __init__(self, first_name, last_name, email, following=[]):\n",
    "        self.first_name = first_name\n",
    "        self.last_name = last_name\n",
    "        self.email = email\n",
    "        self.following = following\n",
    "        self.posts = []\n",
    "    \n",
    "    def __repr__(self):\n",
    "        return '@{} {}'.format(self.first_name, self.last_name)\n",
    "        \n",
    "    def __str__(self):\n",
    "        return '@{} {}'.format(self.first_name, self.last_name)\n",
    "\n",
    "    def add_post(self, post):\n",
    "        self.posts.append(post)\n",
    "        post.set_user(self)\n",
    "\n",
    "    def get_timeline(self):\n",
    "        results = []\n",
    "        results += self.posts\n",
    "        for user in self.following:\n",
    "            results += user.posts\n",
    "        return results\n",
    "\n",
    "    def follow(self, other):\n",
    "        self.following.append(other)"
   ]
  },
  {
   "cell_type": "code",
   "execution_count": 931,
   "metadata": {},
   "outputs": [],
   "source": [
    "class Post(object):\n",
    "    def __init__(self, user=None, text=None, timestamp=None):\n",
    "        self.user = user\n",
    "        self.text = text\n",
    "        self.timestamp = timestamp\n",
    "\n",
    "    def set_user(self, user):\n",
    "        self.user = user\n",
    "        \n",
    "    def __repr__(self):\n",
    "        return '{}'.format(self)\n",
    "\n",
    "\n",
    "class TextPost(Post):\n",
    "    def __init__(self, user=None, text=None, timestamp=None):\n",
    "        super(TextPost, self).__init__(user, text, timestamp)\n",
    "\n",
    "    def __str__(self):\n",
    "        return '{}: \"{}\"\\n\\t{}'.format(self.user, self.text, self.timestamp.strftime('%A, %b %d, %Y'))\n",
    "\n",
    "class PicturePost(Post):\n",
    "    def __init__(self, text, image_url, timestamp=None):\n",
    "        super(PicturePost, self).__init__(self, text, timestamp)\n",
    "        self.image_url = image_url\n",
    "\n",
    "    def __str__(self):\n",
    "        return '{}: \"{}\"\\n\\t{}\\n\\t{}'.format(self.user, self.text, self.image_url, self.timestamp.strftime('%A, %b %d, %Y'))\n",
    "\n",
    "\n",
    "class CheckInPost(Post):\n",
    "    def __init__(self, text, latitude, longitude, timestamp=None):\n",
    "        super(CheckInPost, self).__init__(self, text, timestamp)\n",
    "        self.lat = latitude\n",
    "        self.long = longitude\n",
    "\n",
    "    def __str__(self):\n",
    "        return '@{} Checked In: \"{}\"\\n\\t{}, {}\\n\\t{}'.format(self.user.first_name, self.text, self.lat, self.long, self.timestamp.strftime('%A, %b %d, %Y'))\n"
   ]
  },
  {
   "cell_type": "code",
   "execution_count": 932,
   "metadata": {},
   "outputs": [],
   "source": [
    "class UserFactory(factory.Factory):\n",
    "    class Meta:\n",
    "        model = User\n",
    "\n",
    "    first_name = factory.Iterator(['Kevin', 'Joe', 'Ervin', 'Daniel'])\n",
    "    last_name = factory.Iterator(['Watson', 'Fowler', 'Roberts', 'Wiley'])\n",
    "    email = factory.LazyAttribute(lambda u: '{}.{}@fake-domain.com'.format(\n",
    "        u.first_name, u.last_name))\n",
    "\n",
    "\n",
    "class PostFactory(factory.Factory):\n",
    "    class Meta:\n",
    "        model = Post\n",
    "\n",
    "    text = 'Sample post text'\n",
    "    timestamp = datetime(2017, 1, 10)\n",
    "\n",
    "\n",
    "class TextPostFactory(PostFactory):\n",
    "    class Meta:\n",
    "        model = TextPost\n",
    "\n",
    "\n",
    "class PicturePostFactory(PostFactory):\n",
    "    class Meta:\n",
    "        model = PicturePost\n",
    "\n",
    "    image_url = 'http://fake-domain.com/images/sample.jpg'\n",
    "\n",
    "\n",
    "class CheckInPostFactory(PostFactory):\n",
    "    class Meta:\n",
    "        model = CheckInPost\n",
    "\n",
    "    latitude = -34.603722\n",
    "    longitude = -58.381592"
   ]
  },
  {
   "cell_type": "code",
   "execution_count": 933,
   "metadata": {},
   "outputs": [],
   "source": [
    "def test_user_creation():\n",
    "    user = User(first_name='John', last_name='Doe', email='john@doe.com')\n",
    "    print(user.first_name == 'John')\n",
    "    print(user.last_name == 'Doe')\n",
    "    print(user.email == 'john@doe.com')\n",
    "\n",
    "def test_user_follow():\n",
    "    user1 = UserFactory()\n",
    "    print(user1)\n",
    "    user2 = UserFactory()\n",
    "    print(user2)\n",
    "    user1.follow(user2)\n",
    "    print(user1.following)\n",
    "\n",
    "    print(len(user1.following) == 1)\n",
    "    print(user2 in user1.following)\n",
    "\n",
    "def test_add_post():\n",
    "    user = UserFactory()\n",
    "    print('###')\n",
    "    print(user)\n",
    "    print(user.posts)\n",
    "    print('###\\n')\n",
    "    post1 = TextPostFactory()\n",
    "    post2 = PicturePostFactory()\n",
    "\n",
    "    user.add_post(post1)\n",
    "    print('###')\n",
    "    print(user)\n",
    "    print(user.posts)\n",
    "    print('###\\n')\n",
    "    \n",
    "    user.add_post(post2)\n",
    "    print('###')\n",
    "    print(user)\n",
    "    print(user.posts)\n",
    "    print('###\\n')\n",
    "    print(len(user.posts))\n",
    "    \n",
    "    print(user.posts)\n",
    "\n",
    "    print(len(user.posts) == 2)\n",
    "\n",
    "def test_user_timeline():\n",
    "    \"\"\"Should only return posts from users I'm following\"\"\"\n",
    "    user1 = UserFactory()\n",
    "    user2 = UserFactory()\n",
    "    user3 = UserFactory()\n",
    "    user4 = UserFactory()\n",
    "\n",
    "    user2_post1 = TextPostFactory()\n",
    "    user2_post2 = TextPostFactory()\n",
    "    user3_post1 = PicturePostFactory()\n",
    "    user4_post1 = TextPostFactory()\n",
    "\n",
    "    user2.add_post(user2_post1)\n",
    "    user2.add_post(user2_post2)\n",
    "    user3.add_post(user3_post1)\n",
    "    user4.add_post(user4_post1)\n",
    "\n",
    "    # user1 follows user2 and user3\n",
    "    user1.follow(user2)\n",
    "    user1.follow(user3)\n",
    "\n",
    "    # 2 posts from user2 and 1 from user3\n",
    "    # post from user4 is excluded\n",
    "    print(len(user1.get_timeline()))\n",
    "    assert len(user1.get_timeline()) == 3\n",
    "\n",
    "    assert user4_post1 not in user1.get_timeline()\n",
    "\n",
    "    # should be sorted by creation timestamp\n",
    "    assert user1.get_timeline() == [\n",
    "        user2_post1,\n",
    "        user2_post2,\n",
    "        user3_post1\n",
    "    ]"
   ]
  },
  {
   "cell_type": "code",
   "execution_count": 934,
   "metadata": {},
   "outputs": [],
   "source": [
    "# test_user_creation()"
   ]
  },
  {
   "cell_type": "code",
   "execution_count": 935,
   "metadata": {},
   "outputs": [],
   "source": [
    "# test_user_follow()"
   ]
  },
  {
   "cell_type": "code",
   "execution_count": 936,
   "metadata": {},
   "outputs": [],
   "source": [
    "# test_add_post()"
   ]
  },
  {
   "cell_type": "code",
   "execution_count": 937,
   "metadata": {},
   "outputs": [],
   "source": [
    "# test_user_timeline()"
   ]
  },
  {
   "cell_type": "code",
   "execution_count": 938,
   "metadata": {},
   "outputs": [],
   "source": [
    "def test_post_default_user():\n",
    "    post = TextPostFactory()\n",
    "    assert post.user == None\n",
    "\n",
    "def test_post_set_user():\n",
    "    user = UserFactory()\n",
    "    post = TextPostFactory()\n",
    "    post.set_user(user)\n",
    "    print(post.user == user)\n",
    "\n",
    "def test_post_string_representation():\n",
    "    user = UserFactory(first_name='Kevin', last_name='Watson')\n",
    "    post1 = TextPostFactory()\n",
    "    post2 = PicturePostFactory()\n",
    "    post3 = CheckInPostFactory()\n",
    "\n",
    "    post1.set_user(user)\n",
    "    post2.set_user(user)\n",
    "    post3.set_user(user)\n",
    "\n",
    "    assert str(post1) == '@Kevin Watson: \"Sample post text\"\\n\\tTuesday, Jan 10, 2017'\n",
    "\n",
    "    assert str(post2) == '@Kevin Watson: \"Sample post text\"\\n\\thttp://fake-domain.com/images/sample.jpg\\n\\tTuesday, Jan 10, 2017'\n",
    "\n",
    "    assert str(post3) == '@Kevin Checked In: \"Sample post text\"\\n\\t-34.603722, -58.381592\\n\\tTuesday, Jan 10, 2017'"
   ]
  },
  {
   "cell_type": "code",
   "execution_count": 939,
   "metadata": {},
   "outputs": [],
   "source": [
    "test_post_default_user()"
   ]
  },
  {
   "cell_type": "code",
   "execution_count": 940,
   "metadata": {},
   "outputs": [
    {
     "data": {
      "text/plain": [
       "@Kevin Checked In: \"Sample post text\"\n",
       "\t-34.603722, -58.381592\n",
       "\tTuesday, Jan 10, 2017"
      ]
     },
     "execution_count": 940,
     "metadata": {},
     "output_type": "execute_result"
    }
   ],
   "source": [
    "user = UserFactory(first_name='Kevin', last_name='Watson')\n",
    "post1 = CheckInPostFactory()\n",
    "post1.set_user(user)\n",
    "post1"
   ]
  },
  {
   "cell_type": "code",
   "execution_count": 941,
   "metadata": {},
   "outputs": [
    {
     "name": "stdout",
     "output_type": "stream",
     "text": [
      "True\n"
     ]
    }
   ],
   "source": [
    "test_post_set_user()"
   ]
  },
  {
   "cell_type": "code",
   "execution_count": 942,
   "metadata": {},
   "outputs": [],
   "source": [
    "test_post_string_representation()"
   ]
  },
  {
   "cell_type": "code",
   "execution_count": null,
   "metadata": {},
   "outputs": [],
   "source": []
  },
  {
   "cell_type": "code",
   "execution_count": 943,
   "metadata": {},
   "outputs": [],
   "source": [
    "def main():\n",
    "    john = User(\"John\", \"Lennon\", \"john@rmotr.com\")\n",
    "    paul = User(\"Paul\", \"McCartney\", \"paul@rmotr.com\")\n",
    "    george = User(\"George\", \"Harrison\", \"george@rmotr.com\")\n",
    "    ringo = User(\"Ringo\", \"Starr\", \"ringo@rmotr.com\")\n",
    "\n",
    "    # John > Paul, George, Ringo\n",
    "    # George > Paul, John\n",
    "    # Ringo > John\n",
    "    # Paul > /\n",
    "\n",
    "    john.follow(paul)\n",
    "    john.follow(george)\n",
    "    john.follow(ringo)\n",
    "\n",
    "    george.follow(paul)\n",
    "    george.follow(john)\n",
    "\n",
    "    ringo.follow(john)\n",
    "\n",
    "    john.add_post(TextPost(\"All you need is love!\"))\n",
    "    john.add_post(PicturePost(\"Check my new submarine.\",\n",
    "                              image_url='imgur.com/submarine.jpg'))\n",
    "\n",
    "    george.add_post(TextPost(\"My guitar gently weeps...\"))\n",
    "    george.add_post(TextPost(\"For you, I'd go full blue...\"))\n",
    "\n",
    "    paul.add_post(PicturePost(\"Check my new guitar\",\n",
    "                              image_url=\"imgur.com/guitar.png\"))\n",
    "    paul.add_post(CheckInPost(\n",
    "        \"At 20 Forthlin Road\", latitude=\"20.111\", longitude=\"-10.2222\"))\n",
    "\n",
    "    paul.add_post(CheckInPost(\n",
    "        \"At Abbey Road Studios\", latitude=\"19.111\", longitude=\"-9.2222\"))\n",
    "\n",
    "    print(\"### John's timeline\")\n",
    "    for post in john.get_timeline():\n",
    "        print(post)"
   ]
  },
  {
   "cell_type": "code",
   "execution_count": null,
   "metadata": {},
   "outputs": [],
   "source": []
  },
  {
   "cell_type": "code",
   "execution_count": 944,
   "metadata": {},
   "outputs": [
    {
     "name": "stdout",
     "output_type": "stream",
     "text": [
      "### John's timeline\n"
     ]
    },
    {
     "ename": "AttributeError",
     "evalue": "'NoneType' object has no attribute 'strftime'",
     "output_type": "error",
     "traceback": [
      "\u001b[0;31m---------------------------------------------------------------------------\u001b[0m",
      "\u001b[0;31mAttributeError\u001b[0m                            Traceback (most recent call last)",
      "\u001b[0;32m<ipython-input-944-263240bbee7e>\u001b[0m in \u001b[0;36m<module>\u001b[0;34m\u001b[0m\n\u001b[0;32m----> 1\u001b[0;31m \u001b[0mmain\u001b[0m\u001b[0;34m(\u001b[0m\u001b[0;34m)\u001b[0m\u001b[0;34m\u001b[0m\u001b[0;34m\u001b[0m\u001b[0m\n\u001b[0m",
      "\u001b[0;32m<ipython-input-943-eef5e09878f5>\u001b[0m in \u001b[0;36mmain\u001b[0;34m()\u001b[0m\n\u001b[1;32m     36\u001b[0m     \u001b[0mprint\u001b[0m\u001b[0;34m(\u001b[0m\u001b[0;34m\"### John's timeline\"\u001b[0m\u001b[0;34m)\u001b[0m\u001b[0;34m\u001b[0m\u001b[0;34m\u001b[0m\u001b[0m\n\u001b[1;32m     37\u001b[0m     \u001b[0;32mfor\u001b[0m \u001b[0mpost\u001b[0m \u001b[0;32min\u001b[0m \u001b[0mjohn\u001b[0m\u001b[0;34m.\u001b[0m\u001b[0mget_timeline\u001b[0m\u001b[0;34m(\u001b[0m\u001b[0;34m)\u001b[0m\u001b[0;34m:\u001b[0m\u001b[0;34m\u001b[0m\u001b[0;34m\u001b[0m\u001b[0m\n\u001b[0;32m---> 38\u001b[0;31m         \u001b[0mprint\u001b[0m\u001b[0;34m(\u001b[0m\u001b[0mpost\u001b[0m\u001b[0;34m)\u001b[0m\u001b[0;34m\u001b[0m\u001b[0;34m\u001b[0m\u001b[0m\n\u001b[0m",
      "\u001b[0;32m<ipython-input-931-6e898b530934>\u001b[0m in \u001b[0;36m__str__\u001b[0;34m(self)\u001b[0m\n\u001b[1;32m     17\u001b[0m \u001b[0;34m\u001b[0m\u001b[0m\n\u001b[1;32m     18\u001b[0m     \u001b[0;32mdef\u001b[0m \u001b[0m__str__\u001b[0m\u001b[0;34m(\u001b[0m\u001b[0mself\u001b[0m\u001b[0;34m)\u001b[0m\u001b[0;34m:\u001b[0m\u001b[0;34m\u001b[0m\u001b[0;34m\u001b[0m\u001b[0m\n\u001b[0;32m---> 19\u001b[0;31m         \u001b[0;32mreturn\u001b[0m \u001b[0;34m'{}: \"{}\"\\n\\t{}'\u001b[0m\u001b[0;34m.\u001b[0m\u001b[0mformat\u001b[0m\u001b[0;34m(\u001b[0m\u001b[0mself\u001b[0m\u001b[0;34m.\u001b[0m\u001b[0muser\u001b[0m\u001b[0;34m,\u001b[0m \u001b[0mself\u001b[0m\u001b[0;34m.\u001b[0m\u001b[0mtext\u001b[0m\u001b[0;34m,\u001b[0m \u001b[0mself\u001b[0m\u001b[0;34m.\u001b[0m\u001b[0mtimestamp\u001b[0m\u001b[0;34m.\u001b[0m\u001b[0mstrftime\u001b[0m\u001b[0;34m(\u001b[0m\u001b[0;34m'%A, %b %d, %Y'\u001b[0m\u001b[0;34m)\u001b[0m\u001b[0;34m)\u001b[0m\u001b[0;34m\u001b[0m\u001b[0;34m\u001b[0m\u001b[0m\n\u001b[0m\u001b[1;32m     20\u001b[0m \u001b[0;34m\u001b[0m\u001b[0m\n\u001b[1;32m     21\u001b[0m \u001b[0;32mclass\u001b[0m \u001b[0mPicturePost\u001b[0m\u001b[0;34m(\u001b[0m\u001b[0mPost\u001b[0m\u001b[0;34m)\u001b[0m\u001b[0;34m:\u001b[0m\u001b[0;34m\u001b[0m\u001b[0;34m\u001b[0m\u001b[0m\n",
      "\u001b[0;31mAttributeError\u001b[0m: 'NoneType' object has no attribute 'strftime'"
     ]
    }
   ],
   "source": [
    "main()"
   ]
  },
  {
   "cell_type": "markdown",
   "metadata": {},
   "source": []
  },
  {
   "cell_type": "code",
   "execution_count": null,
   "metadata": {},
   "outputs": [],
   "source": []
  },
  {
   "cell_type": "code",
   "execution_count": null,
   "metadata": {},
   "outputs": [],
   "source": []
  },
  {
   "cell_type": "code",
   "execution_count": null,
   "metadata": {},
   "outputs": [],
   "source": []
  },
  {
   "cell_type": "code",
   "execution_count": null,
   "metadata": {},
   "outputs": [],
   "source": []
  },
  {
   "cell_type": "code",
   "execution_count": null,
   "metadata": {},
   "outputs": [],
   "source": []
  }
 ],
 "metadata": {
  "kernelspec": {
   "display_name": "Python 3",
   "language": "python",
   "name": "python3"
  },
  "language_info": {
   "codemirror_mode": {
    "name": "ipython",
    "version": 3
   },
   "file_extension": ".py",
   "mimetype": "text/x-python",
   "name": "python",
   "nbconvert_exporter": "python",
   "pygments_lexer": "ipython3",
   "version": "3.6.8"
  }
 },
 "nbformat": 4,
 "nbformat_minor": 2
}
